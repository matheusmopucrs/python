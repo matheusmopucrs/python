{
  "nbformat": 4,
  "nbformat_minor": 0,
  "metadata": {
    "colab": {
      "provenance": [],
      "include_colab_link": true
    },
    "kernelspec": {
      "name": "python3",
      "display_name": "Python 3"
    },
    "language_info": {
      "name": "python"
    }
  },
  "cells": [
    {
      "cell_type": "markdown",
      "metadata": {
        "id": "view-in-github",
        "colab_type": "text"
      },
      "source": [
        "<a href=\"https://colab.research.google.com/github/matheusmopucrs/python/blob/main/ML_T1.ipynb\" target=\"_parent\"><img src=\"https://colab.research.google.com/assets/colab-badge.svg\" alt=\"Open In Colab\"/></a>"
      ]
    },
    {
      "cell_type": "code",
      "source": [
        "import kagglehub\n",
        "from kagglehub import KaggleDatasetAdapter\n",
        "from sklearn.model_selection import train_test_split\n",
        "from sklearn.preprocessing import StandardScaler\n",
        "from sklearn.metrics import classification_report, accuracy_score\n",
        "from sklearn.model_selection import GridSearchCV\n",
        "import pandas as pd"
      ],
      "metadata": {
        "id": "Rv6Zr_RZnfk4"
      },
      "execution_count": 2,
      "outputs": []
    },
    {
      "cell_type": "markdown",
      "source": [
        "# **Carregando dataset**"
      ],
      "metadata": {
        "id": "bMAyXhymZNYR"
      }
    },
    {
      "cell_type": "code",
      "execution_count": 3,
      "metadata": {
        "colab": {
          "base_uri": "https://localhost:8080/"
        },
        "id": "QMMulxKNV3RX",
        "outputId": "106ab575-4b95-4b12-cb77-d241dad27988"
      },
      "outputs": [
        {
          "output_type": "stream",
          "name": "stdout",
          "text": [
            "Downloading from https://www.kaggle.com/api/v1/datasets/download/hubertsidorowicz/football-players-stats-2024-2025?dataset_version_number=43&file_name=players_data-2024_2025.csv...\n"
          ]
        },
        {
          "output_type": "stream",
          "name": "stderr",
          "text": [
            "100%|██████████| 2.53M/2.53M [00:00<00:00, 130MB/s]"
          ]
        },
        {
          "output_type": "stream",
          "name": "stdout",
          "text": [
            "First 5 records:    Rk             Player   Nation    Pos        Squad                Comp  \\\n",
            "0   1         Max Aarons  eng ENG     DF  Bournemouth  eng Premier League   \n",
            "1   2         Max Aarons  eng ENG  DF,MF     Valencia          es La Liga   \n",
            "2   3     Rodrigo Abajas   es ESP     DF     Valencia          es La Liga   \n",
            "3   4     James Abankwah   ie IRL  DF,MF      Udinese          it Serie A   \n",
            "4   5  Keyliane Abdallah   fr FRA     FW    Marseille          fr Ligue 1   \n",
            "\n",
            "    Age    Born  MP  Starts  ...  Att (GK)  Thr  Launch%  AvgLen  Opp  Stp  \\\n",
            "0  24.0  2000.0   3       1  ...       NaN  NaN      NaN     NaN  NaN  NaN   \n",
            "1  24.0  2000.0   4       1  ...       NaN  NaN      NaN     NaN  NaN  NaN   \n",
            "2  21.0  2003.0   1       1  ...       NaN  NaN      NaN     NaN  NaN  NaN   \n",
            "3  20.0  2004.0   6       0  ...       NaN  NaN      NaN     NaN  NaN  NaN   \n",
            "4  18.0  2006.0   1       0  ...       NaN  NaN      NaN     NaN  NaN  NaN   \n",
            "\n",
            "   Stp%  #OPA  #OPA/90  AvgDist  \n",
            "0   NaN   NaN      NaN      NaN  \n",
            "1   NaN   NaN      NaN      NaN  \n",
            "2   NaN   NaN      NaN      NaN  \n",
            "3   NaN   NaN      NaN      NaN  \n",
            "4   NaN   NaN      NaN      NaN  \n",
            "\n",
            "[5 rows x 267 columns]\n"
          ]
        },
        {
          "output_type": "stream",
          "name": "stderr",
          "text": [
            "\n"
          ]
        }
      ],
      "source": [
        "# Set the path to the file you'd like to load\n",
        "file_path = \"players_data-2024_2025.csv\"\n",
        "\n",
        "# Load the latest version\n",
        "df = kagglehub.dataset_load(\n",
        "  KaggleDatasetAdapter.PANDAS,\n",
        "  \"hubertsidorowicz/football-players-stats-2024-2025\",\n",
        "  file_path,\n",
        "  # Provide any additional arguments like\n",
        "  # sql_query or pandas_kwargs. See the\n",
        "  # documenation for more information:\n",
        "  # https://github.com/Kaggle/kagglehub/blob/main/README.md#kaggledatasetadapterpandas\n",
        ")\n",
        "\n",
        "print(\"First 5 records:\", df.head())"
      ]
    },
    {
      "cell_type": "markdown",
      "source": [
        "#**EDA**"
      ],
      "metadata": {
        "id": "fNc-8FycazKN"
      }
    },
    {
      "cell_type": "code",
      "source": [
        "# Exibir informações gerais sobre os dados\n",
        "print(\"\\nInformações do Conjunto de Treino:\")\n",
        "df.info()\n",
        "\n",
        "# Verificar a distribuição das classes (balanceamento)\n",
        "print(\"\\nDistribuição das Classes:\")\n",
        "print(df['Pos'].value_counts())"
      ],
      "metadata": {
        "colab": {
          "base_uri": "https://localhost:8080/"
        },
        "id": "1gH6Qpvbaykw",
        "outputId": "872eb06c-fa25-4365-b929-99679b608816"
      },
      "execution_count": 4,
      "outputs": [
        {
          "output_type": "stream",
          "name": "stdout",
          "text": [
            "\n",
            "Informações do Conjunto de Treino:\n",
            "<class 'pandas.core.frame.DataFrame'>\n",
            "RangeIndex: 2854 entries, 0 to 2853\n",
            "Columns: 267 entries, Rk to AvgDist\n",
            "dtypes: float64(111), int64(121), object(35)\n",
            "memory usage: 5.8+ MB\n",
            "\n",
            "Distribuição das Classes:\n",
            "Pos\n",
            "DF       859\n",
            "MF       589\n",
            "FW       371\n",
            "FW,MF    325\n",
            "MF,FW    230\n",
            "GK       212\n",
            "DF,MF    110\n",
            "MF,DF     81\n",
            "DF,FW     53\n",
            "FW,DF     24\n",
            "Name: count, dtype: int64\n"
          ]
        }
      ]
    },
    {
      "cell_type": "markdown",
      "source": [
        "#**Limpando o dataset**"
      ],
      "metadata": {
        "id": "SxwfO5yc1ZQL"
      }
    },
    {
      "cell_type": "code",
      "source": [
        "#Numero de jogadores antes da limpeza\n",
        "print(f\"Numero de jogadores antes da limpeza: {len(df)}\")\n",
        "\n",
        "df_final= df.copy()\n",
        "\n",
        "#Removendo os jogadores com a posição GOL\n",
        "df_final = df_final[df_final['Pos'] != 'GK'].copy()\n",
        "\n",
        "#Removendo as posições secundarias\n",
        "df_final['Pos'] = df_final['Pos'].str.split(',').str[0]\n",
        "\n",
        "#Removendo jogadores que tiveram minutagem baixa\n",
        "df_final = df_final[df_final['90s'] >= 10].copy()\n",
        "\n",
        "print(df_final['Pos'].value_counts())\n",
        "print(f\"Numero de jogadores depois da limpeza: {len(df_final)}\")"
      ],
      "metadata": {
        "colab": {
          "base_uri": "https://localhost:8080/"
        },
        "id": "j1EyIJ1T1Y4-",
        "outputId": "0157485e-6c8b-4c75-b19b-25999b79c222"
      },
      "execution_count": 5,
      "outputs": [
        {
          "output_type": "stream",
          "name": "stdout",
          "text": [
            "Numero de jogadores antes da limpeza: 2854\n",
            "Pos\n",
            "DF    618\n",
            "MF    492\n",
            "FW    343\n",
            "Name: count, dtype: int64\n",
            "Numero de jogadores depois da limpeza: 1453\n"
          ]
        }
      ]
    },
    {
      "cell_type": "markdown",
      "source": [
        "# **Escolhendo as features**"
      ],
      "metadata": {
        "id": "TX-v5w2m27ua"
      }
    },
    {
      "cell_type": "code",
      "source": [
        "colunas_selecionadas = [\n",
        "    '90s',    #Minutos dividos por 90\n",
        "    'Gls',    #gols (FW)\n",
        "    #'Ast',    #assistencias (FW, MF)\n",
        "    'xG',     #Gols esperados(FW)\n",
        "    #'xAG',    #Assistencias esperadas (FW, MF)\n",
        "    #'Tkl',    #Botes\n",
        "    'TklW',   #Botes certos\n",
        "    #'Blocks', #Bloqueios\n",
        "    'Int',    #Interceptações(DF)\n",
        "    'Clr',    #Clearences\n",
        "    'Recov',  #Bolas recuperadas(MF)\n",
        "    #'Err',    #Erros que levaram ao gol adversario\n",
        "    #'PKcon',  #Penaltis cometidos(DF)\n",
        "    #'CrdY',   #Cartões Amarelos\n",
        "    #'CrdR',   #Cartões Vermelhos\n",
        "    'PrgP',   #Passes progressivos(MF, DF)\n",
        "    #'KP',     #Passes chaves(passes que levaram ao um chute)\n",
        "    #'Att',    #Passes tentados ou dribles tentados?\n",
        "    #'Cmp',    #Passes completados(DF, MF)\n",
        "    #'Cmp%',   #Porcentagem de passes completados(DF, MF)\n",
        "    #'PPA',    #Passes em direção a area do penalti\n",
        "    #'Live',   #Passes com bola rolando(MF, DF)\n",
        "    #'SCA',      #Shot-Creation Actions(MF, FW)\n",
        "    #'Touches',  #Toques na bola(MF, DF)\n",
        "    #'Carries',  #Total ball carries(DF, MF)\n",
        "    #'PrgC',     #Progressive Carries\n",
        "    'CPA',      #Carries into penalty area(FW)\n",
        "    #'TB',       #Bolas enfiadas por tras de defensores(MF, FW)\n",
        "    #'Rec',    #Numero de vezes que o jogador recebeu a bola(MF, DF)\n",
        "    'PrgR',    #Numero de vezes que o jogador recebeu um passe progressivo(FW)\n",
        "    #'Mis',    #Miscontrols(FW)\n",
        "    #'Dis',    #Times dispossessed(FW)\n",
        "    'Succ',   #Dribles completados(FW)\n",
        "    'Tkld',    #Numero de vezes que foi tentado ser desarmado durante uma tentativa de drible(FW)\n",
        "    #'Sh',     #Chutes totais(FW, MF)\n",
        "    'SoT',    #Chutes ao gol(FW)\n",
        "    #'PrgDist',  #Distancia que o jogador levou a bola em direção ao gol(DF, MF)\n",
        "    #'TotDist',  #Distancia que o jogador levou a bola em qualquer direção(MF, DF)\n",
        "    #'Fls',    #Faltas cometidas\n",
        "    #'Fld',    #Faltas sofridas(MF, FW)\n",
        "    'Off',    #Impedimentos(FW)\n",
        "    #'Crs',    #Cruzamentos\n",
        "    'TI',     #Laterais(DF)\n",
        "    #'OG',     #Gols contras\n",
        "    'Att Pen',  #Toques dentro da area do penalti adversaria(FW)\n",
        "    'Def Pen',  #Toques dentro da area do penalti aliada(DF)\n",
        "    #'Def 3rd',  #Touches in defensive 1/3 (DF)\n",
        "    'Mid 3rd',  #Touches in mid 1/3 (MF, DF)\n",
        "    #'Att 3rd',  #Touches in attacking 1/3 (FW, MF)\n",
        "    'Pos'     #Posição(atributo alvo)\n",
        "]\n",
        "\n",
        "df_final = df_final[colunas_selecionadas].copy()"
      ],
      "metadata": {
        "id": "pUNPshns5HyS"
      },
      "execution_count": 6,
      "outputs": []
    },
    {
      "cell_type": "markdown",
      "source": [
        "# **Normalizar os dados em relação aos minutos jogados**"
      ],
      "metadata": {
        "id": "bbgoL9pC3GgB"
      }
    },
    {
      "cell_type": "code",
      "source": [
        "stats_normalizar = [\n",
        "    coluna for coluna in colunas_selecionadas if coluna != '90s' and coluna != 'Pos'\n",
        "]\n",
        "\n",
        "for stat in stats_normalizar:\n",
        "    novo_nome_coluna = f'{stat}/90s'\n",
        "    df_final[novo_nome_coluna] = df_final[stat] / df_final['90s']\n",
        "\n",
        "colunas_manter =  ['Pos'] + [f'{stat}/90s' for stat in stats_normalizar]\n",
        "\n",
        "#Remover colunas não normalizadas\n",
        "df_final = df_final[colunas_manter].copy()\n",
        "#Printar todas as colunas\n",
        "print(df_final.columns)"
      ],
      "metadata": {
        "colab": {
          "base_uri": "https://localhost:8080/"
        },
        "id": "ePWuS2hl3GNB",
        "outputId": "74907ad8-919d-458b-a6d9-e4159422dab4"
      },
      "execution_count": 7,
      "outputs": [
        {
          "output_type": "stream",
          "name": "stdout",
          "text": [
            "Index(['Pos', 'Gls/90s', 'xG/90s', 'TklW/90s', 'Int/90s', 'Clr/90s',\n",
            "       'Recov/90s', 'PrgP/90s', 'CPA/90s', 'PrgR/90s', 'Succ/90s', 'Tkld/90s',\n",
            "       'SoT/90s', 'Off/90s', 'TI/90s', 'Att Pen/90s', 'Def Pen/90s',\n",
            "       'Mid 3rd/90s'],\n",
            "      dtype='object')\n"
          ]
        }
      ]
    },
    {
      "cell_type": "markdown",
      "source": [
        "# **Separação e divisão do dataset**"
      ],
      "metadata": {
        "id": "fKCghsc2zweg"
      }
    },
    {
      "cell_type": "code",
      "source": [
        "#Separar x e y\n",
        "\n",
        "X = df_final.drop('Pos', axis=1)\n",
        "y = df_final['Pos']\n",
        "\n",
        "#Dividir o dataset em treino e teste\n",
        "X_train, X_test, y_train, y_test = train_test_split(X, y, test_size=0.2, random_state=42, stratify=y)"
      ],
      "metadata": {
        "id": "f96wrc4wzwKU"
      },
      "execution_count": 8,
      "outputs": []
    },
    {
      "cell_type": "code",
      "source": [
        "scaler = StandardScaler()\n",
        "\n",
        "# Ajusta o scaler APENAS nos dados de treino e os transforma\n",
        "X_train_scaled = scaler.fit_transform(X_train)\n",
        "\n",
        "# APLICA a mesma transformação nos dados de teste\n",
        "X_test_scaled = scaler.transform(X_test)"
      ],
      "metadata": {
        "id": "XdPF_0zXz49c"
      },
      "execution_count": 9,
      "outputs": []
    },
    {
      "cell_type": "code",
      "source": [
        "from sklearn.preprocessing import PowerTransformer\n",
        "\n",
        "# 1. Crie o transformador\n",
        "# O método 'yeo-johnson' funciona para dados positivos e negativos.\n",
        "power_transformer = PowerTransformer(method='yeo-johnson', standardize=True)\n",
        "\n",
        "X_train_transformed = power_transformer.fit_transform(X_train)\n",
        "X_test_transformed = power_transformer.transform(X_test)"
      ],
      "metadata": {
        "id": "vlbr5R5n0D1u"
      },
      "execution_count": 10,
      "outputs": []
    },
    {
      "cell_type": "markdown",
      "source": [
        "#**RFECV**"
      ],
      "metadata": {
        "id": "EwyVOHvuydai"
      }
    },
    {
      "cell_type": "code",
      "source": [
        "from sklearn.feature_selection import RFECV\n",
        "from sklearn.model_selection import StratifiedKFold\n",
        "import matplotlib.pyplot as plt\n",
        "from sklearn.tree import DecisionTreeClassifier\n",
        "\n",
        "estimator = DecisionTreeClassifier(max_depth=5, random_state=42)\n",
        "\n",
        "selector = RFECV(\n",
        "    estimator=estimator,\n",
        "    step=1,\n",
        "    cv=StratifiedKFold(5),\n",
        "    scoring='balanced_accuracy',\n",
        "    min_features_to_select=8\n",
        ")\n",
        "\n",
        "print(\"Iniciando a seleção de features com RFECV...\")\n",
        "selector.fit(X_train_transformed, y_train)\n",
        "print(\"Seleção finalizada.\")\n",
        "\n",
        "print(f\"Número ideal de features encontrado: {selector.n_features_}\")\n",
        "\n",
        "X_train_final = selector.transform(X_train_transformed)\n",
        "X_test_final = selector.transform(X_test_transformed)\n",
        "\n",
        "plt.figure(figsize=(10, 6))\n",
        "plt.xlabel(\"Número de features selecionadas\")\n",
        "plt.ylabel(\"Score da Validação Cruzada (Balanced Accuracy)\")\n",
        "# Em versões mais recentes do scikit-learn, use selector.cv_results_['mean_test_score']\n",
        "# Se der erro, a versão antiga usa selector.grid_scores_\n",
        "plt.plot(range(selector.min_features_to_select,\n",
        "               selector.min_features_to_select + len(selector.cv_results_['mean_test_score'])),\n",
        "         selector.cv_results_['mean_test_score'])\n",
        "plt.title(\"Desempenho do RFECV por número de features\")\n",
        "plt.grid()\n",
        "plt.show()\n",
        "\n",
        "\n",
        "# Veja o resultado final\n",
        "print(f\"Número ideal de features encontrado: {selector.n_features_}\")\n",
        "# Corrigido: Acessar os nomes das colunas do DataFrame original 'x_train'\n",
        "print(f\"Features selecionadas: {list(X_train.columns[selector.support_])}\")"
      ],
      "metadata": {
        "colab": {
          "base_uri": "https://localhost:8080/",
          "height": 652
        },
        "id": "LY1RfmDtydD4",
        "outputId": "fb91e603-0bc5-4a3a-8d92-b65153cbe58d"
      },
      "execution_count": 11,
      "outputs": [
        {
          "output_type": "stream",
          "name": "stdout",
          "text": [
            "Iniciando a seleção de features com RFECV...\n",
            "Seleção finalizada.\n",
            "Número ideal de features encontrado: 8\n"
          ]
        },
        {
          "output_type": "display_data",
          "data": {
            "text/plain": [
              "<Figure size 1000x600 with 1 Axes>"
            ],
            "image/png": "[encoded data removed]"
          },
          "metadata": {}
        },
        {
          "output_type": "stream",
          "name": "stdout",
          "text": [
            "Número ideal de features encontrado: 8\n",
            "Features selecionadas: ['xG/90s', 'TklW/90s', 'Clr/90s', 'PrgP/90s', 'PrgR/90s', 'SoT/90s', 'TI/90s', 'Att Pen/90s']\n"
          ]
        }
      ]
    },
    {
      "cell_type": "markdown",
      "source": [
        "# **Modelo 1:KNN**"
      ],
      "metadata": {
        "id": "q7fe2-Uky8PK"
      }
    },
    {
      "cell_type": "code",
      "source": [
        "from sklearn.neighbors import KNeighborsClassifier\n",
        "\n",
        "param_grid_knn = {\n",
        "    # Número de vizinhos a considerar\n",
        "    'n_neighbors': range(5, 50),\n",
        "\n",
        "    # Como os votos dos vizinhos são ponderados:\n",
        "    # 'uniform': todos os vizinhos têm o mesmo peso.\n",
        "    # 'distance': vizinhos mais próximos têm mais influência.\n",
        "    'weights': ['uniform', 'distance'],\n",
        "\n",
        "    'p': [1, 2] # p=1 (Manhattan), p=2 (Euclidiana)\n",
        "}\n",
        "\n",
        "\n",
        "grid_knn = GridSearchCV(\n",
        "    estimator=KNeighborsClassifier(),\n",
        "    param_grid=param_grid_knn,\n",
        "    cv=10,\n",
        "    scoring='accuracy',\n",
        "    n_jobs=-1\n",
        ")\n",
        "\n",
        "# 3. Treinar o GridSearchCV com os dados de treino\n",
        "# Isso vai testar todas as combinações e encontrar a melhor\n",
        "print(\"Iniciando GridSearchCV para o KNN...\")\n",
        "grid_knn.fit(X_train_scaled, y_train)\n",
        "\n",
        "# 4. Exibir os melhores resultados encontrados\n",
        "print(\"\\n--- Resultados do GridSearchCV para KNN ---\")\n",
        "print(f\"Melhores parâmetros encontrados: {grid_knn.best_params_}\")\n",
        "print(f\"Melhor acurácia (validação cruzada): {grid_knn.best_score_:.4f}\")\n",
        "\n",
        "# 5. Avaliar o melhor modelo encontrado nos dados de TESTE\n",
        "print(\"\\n--- Avaliação final do melhor modelo KNN no conjunto de teste ---\")\n",
        "best_knn = grid_knn.best_estimator_\n",
        "y_pred_best_knn = best_knn.predict(X_test_scaled)\n",
        "print(classification_report(y_test, y_pred_best_knn))\n",
        "\n",
        "#for i, (verdadeiro, previsto) in enumerate(zip(y_test, y_pred_best_knn)):\n",
        "    #status = \"✅ Acertou\" if verdadeiro == previsto else \"❌ Errou\"\n",
        "    #print(f\"Jogador {i+1}: Previsto='{previsto}', Verdadeiro='{verdadeiro}' -> {status}\")"
      ],
      "metadata": {
        "colab": {
          "base_uri": "https://localhost:8080/"
        },
        "id": "dDxO61S2zAGO",
        "outputId": "42f1898c-0fc2-404d-d475-74cf12a667e4"
      },
      "execution_count": 12,
      "outputs": [
        {
          "output_type": "stream",
          "name": "stdout",
          "text": [
            "Iniciando GridSearchCV para o KNN...\n",
            "\n",
            "--- Resultados do GridSearchCV para KNN ---\n",
            "Melhores parâmetros encontrados: {'n_neighbors': 10, 'p': 2, 'weights': 'distance'}\n",
            "Melhor acurácia (validação cruzada): 0.9028\n",
            "\n",
            "--- Avaliação final do melhor modelo KNN no conjunto de teste ---\n",
            "              precision    recall  f1-score   support\n",
            "\n",
            "          DF       0.99      0.95      0.97       124\n",
            "          FW       0.83      0.87      0.85        69\n",
            "          MF       0.86      0.88      0.87        98\n",
            "\n",
            "    accuracy                           0.91       291\n",
            "   macro avg       0.89      0.90      0.90       291\n",
            "weighted avg       0.91      0.91      0.91       291\n",
            "\n"
          ]
        },
        {
          "output_type": "stream",
          "name": "stderr",
          "text": [
            "/usr/local/lib/python3.12/dist-packages/sklearn/model_selection/_search.py:1108: UserWarning: One or more of the test scores are non-finite: [       nan 0.89589596 0.90019894 0.90019894        nan 0.90277778\n",
            " 0.89244769 0.89588123        nan 0.89419393 0.89936634 0.89678014\n",
            "        nan 0.8976201  0.8959107  0.8959107         nan 0.89760536\n",
            " 0.89936634 0.90022104        nan 0.89932213 0.90108311 0.90279988\n",
            "        nan 0.89504863 0.90279988 0.90193781        nan 0.89590333\n",
            " 0.89848217 0.90020631        nan 0.89589596 0.90019157 0.90019157\n",
            "        nan 0.90192308 0.90190834 0.90191571        nan 0.90019894\n",
            " 0.90191571 0.90191571        nan 0.89935897 0.89933687 0.90019157\n",
            "        nan 0.89848954 0.89934424 0.89934424        nan 0.89849691\n",
            " 0.89762747 0.90106101        nan 0.8967875  0.90193045 0.90278515\n",
            "        nan 0.89592543 0.89935897 0.89934424        nan 0.89076039\n",
            " 0.90107574 0.90193045        nan 0.895056   0.90022104 0.89763484\n",
            "        nan 0.89161509 0.89850427 0.89935897        nan 0.8959107\n",
            " 0.90022104 0.89763484        nan 0.895056   0.89762747 0.89762747\n",
            "        nan 0.89419393 0.89677277 0.89504126        nan 0.89160772\n",
            " 0.89678014 0.89849691        nan 0.895056   0.89935897 0.8967654\n",
            "        nan 0.89504126 0.89849691 0.90193045        nan 0.89333186\n",
            " 0.8967654  0.89763484        nan 0.89419393 0.89504863 0.90020631\n",
            "        nan 0.88902151 0.89934424 0.89331712        nan 0.88987622\n",
            " 0.89160772 0.89504126        nan 0.88987622 0.89504126 0.89332449\n",
            "        nan 0.89073828 0.89246979 0.89160035        nan 0.89073828\n",
            " 0.89246242 0.89246979        nan 0.89332449 0.89160035 0.89417182\n",
            "        nan 0.89246979 0.89333186 0.89418656        nan 0.89419393\n",
            " 0.89332449 0.89504126        nan 0.89247716 0.89160035 0.89504126\n",
            "        nan 0.89162246 0.89331712 0.89159299        nan 0.89075302\n",
            " 0.89073828 0.89504126        nan 0.89076776 0.88987622 0.88901415\n",
            "        nan 0.88818155 0.88642794 0.89073092        nan 0.89162246\n",
            " 0.88902151 0.89073828        nan 0.88990569 0.89074565 0.89246242\n",
            "        nan 0.88989832 0.89419393 0.89333186        nan 0.89161509\n",
            " 0.89073828 0.89419393        nan 0.88902888 0.89245505 0.89160772]\n",
            "  warnings.warn(\n"
          ]
        }
      ]
    },
    {
      "cell_type": "markdown",
      "source": [
        "# **Modelo 2: Árvore de Decisão**"
      ],
      "metadata": {
        "id": "lD8om-Nq0CWn"
      }
    },
    {
      "cell_type": "code",
      "source": [
        "from sklearn.tree import DecisionTreeClassifier\n",
        "\n",
        "# 1. Definir a grade de parâmetros que queremos testar\n",
        "param_grid_tree = {\n",
        "    # Profundidade máxima da árvore\n",
        "    'max_depth': [4, 6, 8, 10],\n",
        "\n",
        "    # Critério para medir a qualidade da divisão\n",
        "    'criterion': ['gini', 'entropy'],\n",
        "\n",
        "    # Número mínimo de amostras necessárias em um nó folha\n",
        "    'min_samples_leaf': [1, 3, 5],\n",
        "\n",
        "    # Número mínimo de amostras necessárias para dividir um nó\n",
        "    'min_samples_split': [2, 5, 10],\n",
        "\n",
        "    # Número de features a serem consideradas ao procurar a melhor divisão\n",
        "    'max_features': ['sqrt', 'log2', None]\n",
        "}\n",
        "\n",
        "# 2. Instanciar o GridSearchCV\n",
        "grid_tree = GridSearchCV(\n",
        "    estimator=DecisionTreeClassifier(random_state=42),\n",
        "    param_grid=param_grid_tree,\n",
        "    cv=5,\n",
        "    scoring='accuracy',\n",
        "    n_jobs=-1\n",
        ")\n",
        "\n",
        "# 3. Treinar o GridSearchCV\n",
        "print(\"Iniciando GridSearchCV para a Árvore de Decisão...\")\n",
        "grid_tree.fit(X_train_scaled, y_train)\n",
        "\n",
        "# 4. Exibir os melhores resultados encontrados\n",
        "print(\"\\n--- Resultados do GridSearchCV para Árvore de Decisão ---\")\n",
        "print(f\"Melhores parâmetros encontrados: {grid_tree.best_params_}\")\n",
        "print(f\"Melhor acurácia (validação cruzada): {grid_tree.best_score_:.4f}\")\n",
        "\n",
        "# 5. Avaliar o melhor modelo encontrado nos dados de TESTE\n",
        "print(\"\\n--- Avaliação final da melhor Árvore de Decisão no conjunto de teste ---\")\n",
        "best_tree = grid_tree.best_estimator_\n",
        "y_pred_best_tree = best_tree.predict(X_test_scaled)\n",
        "print(classification_report(y_test, y_pred_best_tree))\n",
        "\n",
        "#for i, (verdadeiro, previsto) in enumerate(zip(y_test, y_pred_best_tree)):\n",
        "    #status = \"✅ Acertou\" if verdadeiro == previsto else \"❌ Errou\"\n",
        "    #print(f\"Jogador {i+1}: Previsto='{previsto}', Verdadeiro='{verdadeiro}' -> {status}\")"
      ],
      "metadata": {
        "colab": {
          "base_uri": "https://localhost:8080/"
        },
        "id": "dcRhyJsX0IpD",
        "outputId": "5c14b404-b15c-44d7-8d87-75a0ab40be3f"
      },
      "execution_count": 13,
      "outputs": [
        {
          "output_type": "stream",
          "name": "stdout",
          "text": [
            "Iniciando GridSearchCV para a Árvore de Decisão...\n",
            "\n",
            "--- Resultados do GridSearchCV para Árvore de Decisão ---\n",
            "Melhores parâmetros encontrados: {'criterion': 'gini', 'max_depth': 10, 'max_features': None, 'min_samples_leaf': 5, 'min_samples_split': 2}\n",
            "Melhor acurácia (validação cruzada): 0.8692\n",
            "\n",
            "--- Avaliação final da melhor Árvore de Decisão no conjunto de teste ---\n",
            "              precision    recall  f1-score   support\n",
            "\n",
            "          DF       0.94      0.93      0.93       124\n",
            "          FW       0.82      0.91      0.86        69\n",
            "          MF       0.86      0.81      0.83        98\n",
            "\n",
            "    accuracy                           0.88       291\n",
            "   macro avg       0.87      0.88      0.88       291\n",
            "weighted avg       0.88      0.88      0.88       291\n",
            "\n"
          ]
        }
      ]
    },
    {
      "cell_type": "markdown",
      "source": [
        "# **Modelo 3: Naive Bayes**"
      ],
      "metadata": {
        "id": "XOL_7XTv2SBt"
      }
    },
    {
      "cell_type": "code",
      "source": [
        "from sklearn.naive_bayes import GaussianNB\n",
        "\n",
        "# --- Treinamento Direto do Naïve Bayes ---\n",
        "# Este modelo é mais simples e não requer otimização de hiperparâmetros complexos.\n",
        "\n",
        "# 1. Inicialização do modelo\n",
        "naive_bayes = GaussianNB()\n",
        "\n",
        "# 2. Treinamento do modelo\n",
        "print(\"Treinando Naïve Bayes...\")\n",
        "naive_bayes.fit(X_train_scaled, y_train)\n",
        "\n",
        "# 3. Previsões\n",
        "y_pred_nb = naive_bayes.predict(X_test_scaled)\n",
        "\n",
        "# 4. Avaliação\n",
        "print(\"\\n--- Resultados para o Naïve Bayes ---\")\n",
        "print(f\"Acurácia: {accuracy_score(y_test, y_pred_nb):.4f}\")\n",
        "print(classification_report(y_test, y_pred_nb))"
      ],
      "metadata": {
        "colab": {
          "base_uri": "https://localhost:8080/"
        },
        "id": "4KjkoKBS2RxP",
        "outputId": "62b8ee68-3713-4b80-94de-4289421cd4f6"
      },
      "execution_count": 14,
      "outputs": [
        {
          "output_type": "stream",
          "name": "stdout",
          "text": [
            "Treinando Naïve Bayes...\n",
            "\n",
            "--- Resultados para o Naïve Bayes ---\n",
            "Acurácia: 0.8625\n",
            "              precision    recall  f1-score   support\n",
            "\n",
            "          DF       0.89      0.93      0.91       124\n",
            "          FW       0.84      0.93      0.88        69\n",
            "          MF       0.84      0.73      0.78        98\n",
            "\n",
            "    accuracy                           0.86       291\n",
            "   macro avg       0.86      0.86      0.86       291\n",
            "weighted avg       0.86      0.86      0.86       291\n",
            "\n"
          ]
        }
      ]
    },
    {
      "cell_type": "markdown",
      "source": [
        "# **Tabela Comparativa de Resultados:**"
      ],
      "metadata": {
        "id": "D3j4c1TNVuvu"
      }
    },
    {
      "cell_type": "code",
      "source": [
        "import pandas as pd\n",
        "\n",
        "# Supondo que você já tenha as métricas\n",
        "results = {\n",
        "    \"Modelo\": [\"KNN\", \"Decision Tree\", \"Naïve Bayes\"],\n",
        "    \"Accuracy\": [0.91, 0.88, 0.86],\n",
        "    \"Precision (Macro)\": [0.89, 0.87, 0.86],\n",
        "    \"Recall (Macro)\": [0.90, 0.88, 0.86],\n",
        "    \"F1 (Macro)\": [0.90, 0.88, 0.86]\n",
        "\n",
        "}\n",
        "\n",
        "df_results = pd.DataFrame(results)\n",
        "print(df_results)\n"
      ],
      "metadata": {
        "colab": {
          "base_uri": "https://localhost:8080/"
        },
        "id": "P8c9xmT0Vq4z",
        "outputId": "159bf64d-443d-464b-8fcf-1ce9a561e62c"
      },
      "execution_count": 16,
      "outputs": [
        {
          "output_type": "stream",
          "name": "stdout",
          "text": [
            "          Modelo  Accuracy  Precision (Macro)  Recall (Macro)  F1 (Macro)\n",
            "0            KNN      0.91               0.89            0.90        0.90\n",
            "1  Decision Tree      0.88               0.87            0.88        0.88\n",
            "2    Naïve Bayes      0.86               0.86            0.86        0.86\n"
          ]
        }
      ]
    }
  ]
}